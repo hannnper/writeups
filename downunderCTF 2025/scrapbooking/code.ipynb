{
 "cells": [
  {
   "cell_type": "code",
   "execution_count": 32,
   "id": "43376005",
   "metadata": {},
   "outputs": [
    {
     "name": "stdout",
     "output_type": "stream",
     "text": [
      "Total chunks: 1533\n"
     ]
    }
   ],
   "source": [
    "# attempt 2\n",
    "\n",
    "filename = \"warped.png\"\n",
    "with open(filename, \"rb\") as f:\n",
    "    data = f.read()\n",
    "\n",
    "# break into 1024-byte chunks\n",
    "CHUNK_SIZE = 1024\n",
    "chunks = [data[i:i+CHUNK_SIZE] for i in range(0, len(data), CHUNK_SIZE)]\n",
    "\n",
    "print(f\"Total chunks: {len(chunks)}\")"
   ]
  },
  {
   "cell_type": "code",
   "execution_count": null,
   "id": "af32e8b1",
   "metadata": {},
   "outputs": [],
   "source": [
    "# filter out empty chunks (NO don't do this you need them!)\n",
    "# chunks = [chunk for chunk in chunks if chunk.strip(b\"\\x00\")]\n",
    "# print(f\"Filtered chunks: {len(chunks)}\")"
   ]
  },
  {
   "cell_type": "code",
   "execution_count": 34,
   "id": "5b5b3e30",
   "metadata": {},
   "outputs": [
    {
     "name": "stdout",
     "output_type": "stream",
     "text": [
      "PNG headers found at: [0, 1, 2]\n",
      "PNG IEND found at: [721, 797, 1530]\n",
      "PNG IHDR found at: [0, 1, 2]\n"
     ]
    }
   ],
   "source": [
    "starts = [i for i, chunk in enumerate(chunks) if chunk.startswith(b'\\x89PNG')]\n",
    "print(f\"PNG headers found at: {starts}\")\n",
    "ends = [i for i, chunk in enumerate(chunks) if b'IEND' in chunk]\n",
    "print(f\"PNG IEND found at: {ends}\")\n",
    "headers = [i for i, chunk in enumerate(chunks) if b'IHDR' in chunk]\n",
    "print(f\"PNG IHDR found at: {headers}\")"
   ]
  },
  {
   "cell_type": "code",
   "execution_count": 35,
   "id": "481492b3",
   "metadata": {},
   "outputs": [],
   "source": [
    "start_chunks = [chunks[i] for i in starts]\n",
    "ends_chunks = [chunks[i] for i in ends]\n",
    "middle_chunks = [chunks[i] for i in range(starts[0]+1, ends[0]) if i not in starts and i not in ends]"
   ]
  },
  {
   "cell_type": "code",
   "execution_count": 36,
   "id": "2738fcd2",
   "metadata": {},
   "outputs": [
    {
     "name": "stdout",
     "output_type": "stream",
     "text": [
      "1\n",
      "2\n",
      "0\n"
     ]
    }
   ],
   "source": [
    "print(721 % 3)\n",
    "print(797 % 3)\n",
    "print(1530 % 3)"
   ]
  },
  {
   "cell_type": "code",
   "execution_count": 37,
   "id": "e7f3379e",
   "metadata": {},
   "outputs": [],
   "source": [
    "# trying to reassemble the PNGs\n",
    "os.makedirs(\"reassembled_pngs\", exist_ok=True)\n",
    "\n",
    "# assume i % 3 belongs to png i\n",
    "png0 = [chunk for i, chunk in enumerate(chunks) if i % 3 == 0]\n",
    "png1 = [chunk for i, chunk in enumerate(chunks) if i % 3 == 1]\n",
    "png2 = [chunk for i, chunk in enumerate(chunks) if i % 3 == 2]"
   ]
  },
  {
   "cell_type": "code",
   "execution_count": 38,
   "id": "24d586ba",
   "metadata": {},
   "outputs": [
    {
     "data": {
      "text/plain": [
       "(511, 511, 511)"
      ]
     },
     "execution_count": 38,
     "metadata": {},
     "output_type": "execute_result"
    }
   ],
   "source": [
    "len(png0), len(png1), len(png2)"
   ]
  },
  {
   "cell_type": "code",
   "execution_count": 39,
   "id": "f5b17225",
   "metadata": {},
   "outputs": [
    {
     "data": {
      "text/plain": [
       "b'$\\xf6\\xdb\"\\x02\\x86\\xe8\\xc1\\xa8\\xb4\\xb7\\xf4h\\x91\\x11\\xbd\\x9f\\x9f#G\\xaa\\x94\\x070\\xb6\\xe0\\x96\\xec\\x81\\x9d\\x932\\xd6\\x9b\\xfa)d\\r\\x9d\\x01nw\\xed[\\xc6\\x93l+F\\x9b>\\xcd\\x08\\x8cs\\x8c*\\xfd\\xc4\\xa8[\\xde\\xa7f)}\\xc4\\x10\\xc8\\xb5Ml\\xcd\\x03\\x9f?\\xdf\\xff\\xc2\\xb3\\xce\\xf4\\xa3\\xc7p\\xd63m\\xc7J\\xbdsZl\\xe9\\xbew-\\x19\\xe3\\xb3\\x91\\x12\\x8a\\xb8\\xbb)\\x11H\\x16\\xa8jV\\x91G\\xf1##\\xbb.\\x06\\xe3\\xe3\\x00V\\xe8\\x8anv,\\xc0p\\xec\\xf3|\\xd1\\x11\\xd6[*g~\\xa1\\xd3\\xdd\\x9fv\\x04p:\\xae\\xf5\\xe1\\xad\\x19\\x1eo\\xb3\\x83\\x0eRK\\xa5\\xdbzno\\xbcJ\\xdf\\xc0J\\x02\\xd6\\xc8-}\\xc5)x\\x1e\\xf4\\x9a\\xc2\\xb3\\xf4\\xb79i\\x88;\\xad\\x7f\\xc7\\xf9\\x82\\x9bU,\"X.\\xc1!\\x00\\xfd\\xa9\\xfbf\\x0b\\t\\x1cDt]\\x15\\x1b\\xe8>\\xfd\\xa9\\xfb\\xfe9YR\\xb6\\x87\\xb2\\xec\\x88l!\\xdb\\xac\\xf4\\xec\\xfdYr\\x9dZ\\xdf\\xb3\\r\\x17m\\'3\\xd9z\\xce\\x05$^\\xf0\\xb4\\xf9\\x02\\xce\\xd0_d\\xed\\x91\\xe5[\\xd5\\x04\\xea\\xe8Z\\x02?\\x9e@g\\xbd\\xfb\\xa7\\xda\\\\\\t\\x7f3~\\xf4\\n\\xc1^0A\\x80\\x91\\xecttJl\\x15\\xfa\\xbd\\xc5b\\x85-+\\xe8T\\xb6KA^\\xa6\\xbfcK\\xe3\\xe0E\\xff\\xe1\\x80\\x97\\xb6\\x9d\\x90\\xda\\xfa\\x05\\'\\x04}\\xba,Yv8\\x8e\\xc0gp.t\\x95\\xa9\\xc7u8Ii;:\\x9c\\x80\\x1c\\xbbXN\\nE\\x8f\\xe1\\xac\\'Y\\x02\\xcdX\\x98b\\xdbl\\xbd \\x91y\\xed8\\xb8q\\xda\\x94\\x0c\\xfc\\x8b\\xac\\x9c\\xf5\\x0c8p\\x16^G\\xe2\\xc4%e\\xd0\\x12\\xbb\\x9fw\\x9f\\xdb\\xf5\\xc4~G\\xee\\x90\\xdf\\xb2Na\\xdc\\xd1\\xac\\x91\\x87\\x9e\\x95\\xe8\\x97\\x9dIf\\x16dg1\\xb8R\\xd1\\xc2\\xdb\\xb8\\xed\\xa1\\xf3\\xde\\xa3.\\xba\\xeb\\xfd\\xbc\\'P~\\x8c\\x83\\xf7\\xcdy\\xbe\\xb2\\x9c\\x95\\x90\\xadd\\xbe\\xf3\\xfb\\xff\\x0f\\xa0\\x12\\xd14\\xbb\\xb7\\xb14\\x00\\x00\\x00\\x00IEND\\xaeB`\\x82\\x00\\x00\\x00\\x00\\x00\\x00\\x00\\x00\\x00\\x00\\x00\\x00\\x00\\x00\\x00\\x00\\x00\\x00\\x00\\x00\\x00\\x00\\x00\\x00\\x00\\x00\\x00\\x00\\x00\\x00\\x00\\x00\\x00\\x00\\x00\\x00\\x00\\x00\\x00\\x00\\x00\\x00\\x00\\x00\\x00\\x00\\x00\\x00\\x00\\x00\\x00\\x00\\x00\\x00\\x00\\x00\\x00\\x00\\x00\\x00\\x00\\x00\\x00\\x00\\x00\\x00\\x00\\x00\\x00\\x00\\x00\\x00\\x00\\x00\\x00\\x00\\x00\\x00\\x00\\x00\\x00\\x00\\x00\\x00\\x00\\x00\\x00\\x00\\x00\\x00\\x00\\x00\\x00\\x00\\x00\\x00\\x00\\x00\\x00\\x00\\x00\\x00\\x00\\x00\\x00\\x00\\x00\\x00\\x00\\x00\\x00\\x00\\x00\\x00\\x00\\x00\\x00\\x00\\x00\\x00\\x00\\x00\\x00\\x00\\x00\\x00\\x00\\x00\\x00\\x00\\x00\\x00\\x00\\x00\\x00\\x00\\x00\\x00\\x00\\x00\\x00\\x00\\x00\\x00\\x00\\x00\\x00\\x00\\x00\\x00\\x00\\x00\\x00\\x00\\x00\\x00\\x00\\x00\\x00\\x00\\x00\\x00\\x00\\x00\\x00\\x00\\x00\\x00\\x00\\x00\\x00\\x00\\x00\\x00\\x00\\x00\\x00\\x00\\x00\\x00\\x00\\x00\\x00\\x00\\x00\\x00\\x00\\x00\\x00\\x00\\x00\\x00\\x00\\x00\\x00\\x00\\x00\\x00\\x00\\x00\\x00\\x00\\x00\\x00\\x00\\x00\\x00\\x00\\x00\\x00\\x00\\x00\\x00\\x00\\x00\\x00\\x00\\x00\\x00\\x00\\x00\\x00\\x00\\x00\\x00\\x00\\x00\\x00\\x00\\x00\\x00\\x00\\x00\\x00\\x00\\x00\\x00\\x00\\x00\\x00\\x00\\x00\\x00\\x00\\x00\\x00\\x00\\x00\\x00\\x00\\x00\\x00\\x00\\x00\\x00\\x00\\x00\\x00\\x00\\x00\\x00\\x00\\x00\\x00\\x00\\x00\\x00\\x00\\x00\\x00\\x00\\x00\\x00\\x00\\x00\\x00\\x00\\x00\\x00\\x00\\x00\\x00\\x00\\x00\\x00\\x00\\x00\\x00\\x00\\x00\\x00\\x00\\x00\\x00\\x00\\x00\\x00\\x00\\x00\\x00\\x00\\x00\\x00\\x00\\x00\\x00\\x00\\x00\\x00\\x00\\x00\\x00\\x00\\x00\\x00\\x00\\x00\\x00\\x00\\x00\\x00\\x00\\x00\\x00\\x00\\x00\\x00\\x00\\x00\\x00\\x00\\x00\\x00\\x00\\x00\\x00\\x00\\x00\\x00\\x00\\x00\\x00\\x00\\x00\\x00\\x00\\x00\\x00\\x00\\x00\\x00\\x00\\x00\\x00\\x00\\x00\\x00\\x00\\x00\\x00\\x00\\x00\\x00\\x00\\x00\\x00\\x00\\x00\\x00\\x00\\x00\\x00\\x00\\x00\\x00\\x00\\x00\\x00\\x00\\x00\\x00\\x00\\x00\\x00\\x00\\x00\\x00\\x00\\x00\\x00\\x00\\x00\\x00\\x00\\x00\\x00\\x00\\x00\\x00\\x00\\x00\\x00\\x00\\x00\\x00\\x00\\x00\\x00\\x00\\x00\\x00\\x00\\x00\\x00\\x00\\x00\\x00\\x00\\x00\\x00\\x00\\x00\\x00\\x00\\x00\\x00\\x00\\x00\\x00\\x00\\x00\\x00\\x00\\x00\\x00\\x00\\x00\\x00\\x00\\x00\\x00\\x00\\x00\\x00\\x00\\x00\\x00\\x00\\x00\\x00\\x00\\x00\\x00\\x00\\x00\\x00\\x00\\x00\\x00\\x00\\x00\\x00\\x00\\x00\\x00\\x00\\x00\\x00\\x00\\x00\\x00\\x00\\x00\\x00\\x00\\x00\\x00\\x00\\x00\\x00\\x00\\x00\\x00\\x00\\x00\\x00\\x00\\x00\\x00\\x00\\x00\\x00\\x00\\x00\\x00\\x00\\x00\\x00\\x00\\x00\\x00\\x00\\x00\\x00\\x00\\x00\\x00\\x00\\x00\\x00\\x00\\x00\\x00\\x00\\x00\\x00\\x00\\x00\\x00\\x00\\x00\\x00\\x00\\x00\\x00\\x00\\x00\\x00\\x00\\x00\\x00\\x00\\x00\\x00\\x00\\x00'"
      ]
     },
     "execution_count": 39,
     "metadata": {},
     "output_type": "execute_result"
    }
   ],
   "source": [
    "png0[-1]"
   ]
  },
  {
   "cell_type": "code",
   "execution_count": 40,
   "id": "68ba19f3",
   "metadata": {},
   "outputs": [],
   "source": [
    "for i, chunk in enumerate(png0):\n",
    "    if not chunk.strip(b\"\\x00\"):\n",
    "        print(f\"chunk {i} is empty\")"
   ]
  },
  {
   "cell_type": "code",
   "execution_count": 45,
   "id": "ce116972",
   "metadata": {},
   "outputs": [
    {
     "name": "stdout",
     "output_type": "stream",
     "text": [
      "chunk 240 is the IEND chunk\n"
     ]
    }
   ],
   "source": [
    "for i, chunk in enumerate(png1):\n",
    "    if b'IEND' in chunk:\n",
    "        print(f\"chunk {i} is the IEND chunk\")\n",
    "    if not chunk.strip(b\"\\x00\"):\n",
    "        # print(f\"chunk {i} is empty\")\n",
    "        continue"
   ]
  },
  {
   "cell_type": "code",
   "execution_count": 44,
   "id": "11765e53",
   "metadata": {},
   "outputs": [
    {
     "name": "stdout",
     "output_type": "stream",
     "text": [
      "chunk 265 is the IEND chunk\n"
     ]
    }
   ],
   "source": [
    "for i, chunk in enumerate(png2):\n",
    "    if b'IEND' in chunk:\n",
    "        print(f\"chunk {i} is the IEND chunk\")\n",
    "    if not chunk.strip(b\"\\x00\"):\n",
    "        # print(f\"chunk {i} is empty\")\n",
    "        continue"
   ]
  },
  {
   "cell_type": "code",
   "execution_count": 43,
   "id": "adc6a78e",
   "metadata": {},
   "outputs": [],
   "source": [
    "# join the chunks back together\n",
    "reassembled_png0 = b''.join(png0)\n",
    "reassembled_png1 = b''.join(png1)\n",
    "reassembled_png2 = b''.join(png2)\n",
    "\n",
    "with open(\"reassembled_pngs/reassembled_0.png\", \"wb\") as f:\n",
    "    f.write(reassembled_png0)\n",
    "with open(\"reassembled_pngs/reassembled_1.png\", \"wb\") as f:\n",
    "    f.write(reassembled_png1)\n",
    "with open(\"reassembled_pngs/reassembled_2.png\", \"wb\") as f:\n",
    "    f.write(reassembled_png2)"
   ]
  },
  {
   "cell_type": "code",
   "execution_count": null,
   "id": "84fda79b",
   "metadata": {},
   "outputs": [],
   "source": []
  }
 ],
 "metadata": {
  "kernelspec": {
   "display_name": "base",
   "language": "python",
   "name": "python3"
  },
  "language_info": {
   "codemirror_mode": {
    "name": "ipython",
    "version": 3
   },
   "file_extension": ".py",
   "mimetype": "text/x-python",
   "name": "python",
   "nbconvert_exporter": "python",
   "pygments_lexer": "ipython3",
   "version": "3.12.4"
  }
 },
 "nbformat": 4,
 "nbformat_minor": 5
}
