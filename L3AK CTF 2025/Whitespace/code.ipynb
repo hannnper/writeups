{
 "cells": [
  {
   "cell_type": "code",
   "execution_count": 1,
   "id": "d0e71177",
   "metadata": {},
   "outputs": [],
   "source": [
    "with open('ascii.txt', 'r') as f:\n",
    "    ascii_letters = f.read()\n",
    "\n",
    "# each ascii letter is 6 lines\n",
    "ascii_letters = ascii_letters.splitlines()\n",
    "ascii_letters = [ascii_letters[i:i + 6] for i in range(0, len(ascii_letters), 6)]\n"
   ]
  },
  {
   "cell_type": "code",
   "execution_count": 2,
   "id": "6fd7b63c",
   "metadata": {},
   "outputs": [],
   "source": [
    "# making a dict mapping letter->ASCII\n",
    "ascii_dict = {}\n",
    "with open('letters.txt', 'r') as f:\n",
    "    letters = f.read().splitlines()\n",
    "    for i, letter in enumerate(letters):\n",
    "        ascii_dict[letter] = ascii_letters[i]"
   ]
  },
  {
   "cell_type": "code",
   "execution_count": 3,
   "id": "6d587e06",
   "metadata": {},
   "outputs": [
    {
     "name": "stdout",
     "output_type": "stream",
     "text": [
      "    \n",
      " #  \n",
      "# # \n",
      "### \n",
      "# # \n",
      "# # \n"
     ]
    }
   ],
   "source": [
    "for line in ascii_dict['A']:\n",
    "    print(line)"
   ]
  },
  {
   "cell_type": "code",
   "execution_count": 4,
   "id": "772ef85b",
   "metadata": {},
   "outputs": [],
   "source": [
    "import itertools\n",
    "\n",
    "# creating a dict of pairs of letters and their combined ascii art \n",
    "# with spaces removed (this matches what seems to be in the flag.txt file)\n",
    "pairs_dict = {}\n",
    "for first, second in itertools.product(ascii_dict.keys(), repeat=2):\n",
    "    combined = [ascii_dict[first][i] + ascii_dict[second][i] for i in range(6)]\n",
    "    combined = [''.join(line.split()) for line in combined]\n",
    "    pairs_dict[(first, second)] = combined\n"
   ]
  },
  {
   "cell_type": "code",
   "execution_count": 9,
   "id": "1b9eec12",
   "metadata": {},
   "outputs": [
    {
     "name": "stdout",
     "output_type": "stream",
     "text": [
      "\n",
      "####\n",
      "##\n",
      "###\n",
      "##\n",
      "######\n"
     ]
    }
   ],
   "source": [
    "for line in pairs_dict[('L', '3')]:\n",
    "    print(line)"
   ]
  },
  {
   "cell_type": "code",
   "execution_count": 6,
   "id": "d23e6392",
   "metadata": {},
   "outputs": [
    {
     "name": "stdout",
     "output_type": "stream",
     "text": [
      "potential_matches[0] = [('E', 'L'), ('L', 'E'), ('L', '3'), ('3', 'L')]\n",
      "potential_matches[1] = [('A', 'B'), ('A', 'D'), ('A', 'K'), ('A', 'R'), ('B', 'A'), ('D', 'A'), ('K', 'A'), ('R', 'A'), ('p', '2'), ('p', '5'), ('q', '2'), ('q', '5'), ('2', 'p'), ('2', 'q'), ('5', 'p'), ('5', 'q')]\n",
      "potential_matches[2] = [('j', '{'), ('j', '}'), ('{', 'j'), ('}', 'j')]\n",
      "potential_matches[3] = [('a', 's'), ('a', 'x'), ('a', 'z'), ('s', 'a'), ('s', 'u'), ('u', 's'), ('u', 'x'), ('u', 'z'), ('x', 'a'), ('x', 'u'), ('z', 'a'), ('z', 'u')]\n",
      "potential_matches[4] = [('T', '_'), ('7', '_'), ('_', 'T'), ('_', '7')]\n",
      "potential_matches[5] = [('A', 'h'), ('B', 'm'), ('D', 'm'), ('K', 'm'), ('M', 'n'), ('R', 'm'), ('h', 'A'), ('m', 'B'), ('m', 'D'), ('m', 'K'), ('m', 'R'), ('n', 'M'), ('p', '4'), ('q', '4'), ('4', 'p'), ('4', 'q')]\n",
      "potential_matches[6] = [('t', 't')]\n",
      "potential_matches[7] = [('E', 'r'), ('r', 'E'), ('r', '3'), ('3', 'r')]\n",
      "potential_matches[8] = [('n', '_'), ('_', 'n')]\n",
      "potential_matches[9] = [('m', '4'), ('4', 'm')]\n",
      "potential_matches[10] = [('c', 't'), ('t', 'c')]\n",
      "potential_matches[11] = [('U', 'r'), ('h', '1'), ('r', 'U'), ('1', 'h')]\n",
      "potential_matches[12] = [('c', 'y'), ('g', 'n'), ('n', 'g'), ('y', 'c')]\n",
      "potential_matches[13] = [('4', '_'), ('_', '4')]\n",
      "potential_matches[14] = [('t', '_'), ('_', 't')]\n",
      "potential_matches[15] = [('f', '1'), ('1', 'f')]\n",
      "potential_matches[16] = [('r', 's'), ('r', 'x'), ('r', 'z'), ('s', 'r'), ('x', 'r'), ('z', 'r')]\n",
      "potential_matches[17] = [('T', '_'), ('7', '_'), ('_', 'T'), ('_', '7')]\n",
      "potential_matches[18] = [('a', 'b'), ('a', 'd'), ('b', 'a'), ('b', 'u'), ('d', 'a'), ('d', 'u'), ('u', 'b'), ('u', 'd')]\n",
      "potential_matches[19] = [('T', '_'), ('7', '_'), ('_', 'T'), ('_', '7')]\n",
      "potential_matches[20] = [('h', 't'), ('t', 'h')]\n",
      "potential_matches[21] = [('E', 'n'), ('M', 'j'), ('O', '{'), ('O', '}'), ('Q', '{'), ('Q', '}'), ('W', '!'), ('j', 'M'), ('n', 'E'), ('n', '3'), ('s', '2'), ('s', '5'), ('x', '2'), ('x', '5'), ('z', '2'), ('z', '5'), ('2', 's'), ('2', 'x'), ('2', 'z'), ('3', 'n'), ('5', 's'), ('5', 'x'), ('5', 'z'), ('{', 'O'), ('{', 'Q'), ('}', 'O'), ('}', 'Q'), ('!', 'W')]\n",
      "potential_matches[22] = [('y', '_'), ('_', 'y')]\n",
      "potential_matches[23] = [('a', '0'), ('c', '6'), ('u', '0'), ('6', 'c'), ('0', 'a'), ('0', 'u')]\n",
      "potential_matches[24] = [('n', '_'), ('_', 'n')]\n",
      "potential_matches[25] = [('E', 'E'), ('E', '3'), ('I', '2'), ('I', '5'), ('Z', '2'), ('Z', '5'), ('2', 'I'), ('2', 'Z'), ('3', 'E'), ('3', '3'), ('5', 'I'), ('5', 'Z')]\n",
      "potential_matches[26] = [('L', 's'), ('L', 'x'), ('L', 'z'), ('b', '_'), ('d', '_'), ('s', 'L'), ('x', 'L'), ('z', 'L'), ('_', 'b'), ('_', 'd')]\n",
      "potential_matches[27] = [('4', '_'), ('_', '4')]\n",
      "potential_matches[28] = [('B', 'P'), ('D', 'P'), ('E', 'h'), ('H', 'Y'), ('K', 'P'), ('P', 'B'), ('P', 'D'), ('P', 'K'), ('P', 'R'), ('R', 'P'), ('X', '4'), ('Y', 'H'), ('h', 'E'), ('h', '3'), ('t', '2'), ('t', '5'), ('2', 't'), ('3', 'h'), ('4', 'X'), ('5', 't')]\n",
      "potential_matches[29] = [('a', 'r'), ('c', 'v'), ('r', 'a'), ('r', 'u'), ('u', 'r'), ('v', 'c')]\n",
      "potential_matches[30] = [('s', '1'), ('x', '1'), ('z', '1'), ('1', 's'), ('1', 'x'), ('1', 'z')]\n",
      "potential_matches[31] = [('t', '1'), ('1', 't')]\n",
      "potential_matches[32] = [('c', '_'), ('_', 'c')]\n",
      "potential_matches[33] = [('t', '0'), ('0', 't')]\n",
      "potential_matches[34] = [('n', '_'), ('_', 'n')]\n",
      "potential_matches[35] = [('r', '4'), ('4', 'r')]\n",
      "potential_matches[36] = [('r', '0'), ('0', 'r')]\n",
      "potential_matches[37] = [('w', '_'), ('_', 'w')]\n",
      "potential_matches[38] = [('t', '1'), ('1', 't')]\n",
      "potential_matches[39] = [('L', 's'), ('L', 'x'), ('L', 'z'), ('b', '_'), ('d', '_'), ('s', 'L'), ('x', 'L'), ('z', 'L'), ('_', 'b'), ('_', 'd')]\n",
      "potential_matches[40] = [('O', 'W'), ('Q', 'W'), ('W', 'O'), ('W', 'Q'), ('a', '8'), ('e', '6'), ('o', '6'), ('u', '8'), ('w', '0'), ('6', 'e'), ('6', 'o'), ('8', 'a'), ('8', 'u'), ('0', 'w')]\n",
      "potential_matches[41] = [('G', 'v'), ('f', 's'), ('f', 'x'), ('f', 'z'), ('n', '{'), ('n', '}'), ('s', 'f'), ('v', 'G'), ('x', 'f'), ('z', 'f'), ('{', 'n'), ('}', 'n')]\n"
     ]
    }
   ],
   "source": [
    "with open('flag.txt', 'r') as f:\n",
    "    flag_lines = f.readlines()\n",
    "\n",
    "flag = [line.strip() for line in flag_lines]\n",
    "\n",
    "# put into groups of 6 lines\n",
    "flag_parts = [flag[i:i + 6] for i in range(0, len(flag), 6)]\n",
    "\n",
    "# take each 6 lines of the flag and compare them to combined pairs\n",
    "potential_matches = []\n",
    "for flag_part in flag_parts:\n",
    "    potential_matches.append([])\n",
    "    for (first, second), combined in pairs_dict.items():\n",
    "        if flag_part == combined:\n",
    "            potential_matches[-1].append((first, second))\n",
    "\n",
    "# print potential matches\n",
    "for i, matches in enumerate(potential_matches):\n",
    "    if matches:\n",
    "        print(f\"potential_matches[{i}] = {matches}\")\n",
    "    else:\n",
    "        print(f\"potential_matches[{i}] = []\")\n"
   ]
  },
  {
   "cell_type": "code",
   "execution_count": null,
   "id": "69e82bb2",
   "metadata": {},
   "outputs": [],
   "source": [
    "# override known/likely flag parts\n",
    "potential_matches[0] = [('L', '3')]\n",
    "potential_matches[1] = [('A', 'K')]\n",
    "potential_matches[2] = [('{', 'j')]\n",
    "potential_matches[3] = [('u', 's'), ('u', 'x'), ('u', 'z')]\n",
    "potential_matches[4] = [('T', '_'), ('7', '_')]\n",
    "potential_matches[5] = [('p', '4')]\n",
    "potential_matches[6] = [('t', 't')]\n",
    "potential_matches[7] = [('E', 'r'), ('3', 'r')]\n",
    "potential_matches[8] = [('n', '_')]\n",
    "potential_matches[9] = [('m', '4')]\n",
    "potential_matches[10] = [('t', 'c')]\n",
    "potential_matches[11] = [('h', '1')]\n",
    "potential_matches[12] = [('n', 'g')]\n",
    "potential_matches[13] = [('_', '4')]\n",
    "potential_matches[14] = [('t', '_')]\n",
    "potential_matches[15] = [('f', '1')]\n",
    "potential_matches[16] = [('r', 's'), ('r', 'x'), ('r', 'z')]\n",
    "potential_matches[17] = [('T', '_'), ('7', '_')]\n",
    "potential_matches[18] = [('b', 'u')]\n",
    "potential_matches[19] = [('T', '_'), ('7', '_'), ('_', 'T'), ('_', '7')]\n",
    "potential_matches[20] = [('t', 'h')]\n",
    "potential_matches[21] = [('E', 'n'), ('3', 'n')]\n",
    "potential_matches[22] = [('_', 'y')]\n",
    "potential_matches[23] = [('0', 'u')]\n",
    "potential_matches[24] = [('_', 'n')]\n",
    "potential_matches[25] = [('E', 'E'), ('E', '3'), ('3', 'E'), ('3', '3')]\n",
    "potential_matches[26] = [('d', '_')]\n",
    "potential_matches[27] = [('4', '_')]\n",
    "potential_matches[28] = [('h', 'E'), ('h', '3')]\n",
    "potential_matches[29] = [('r', 'u'), ('u', 'r')]\n",
    "potential_matches[30] = [('1', 's'), ('1', 'z')]\n",
    "potential_matches[31] = [('t', '1')]\n",
    "potential_matches[32] = [('c', '_')]\n",
    "potential_matches[33] = [('t', '0')]\n",
    "potential_matches[34] = [('_', 'n')]\n",
    "potential_matches[35] = [('4', 'r')]\n",
    "potential_matches[36] = [('r', '0')]\n",
    "potential_matches[37] = [('w', '_')]\n",
    "potential_matches[38] = [('1', 't')]\n",
    "potential_matches[39] = [('_', 'd')]\n",
    "potential_matches[40] = [('O', 'W'), ('0', 'w')]\n",
    "potential_matches[41] = [('n', '}')]"
   ]
  },
  {
   "cell_type": "code",
   "execution_count": 8,
   "id": "967c1330",
   "metadata": {},
   "outputs": [
    {
     "name": "stdout",
     "output_type": "stream",
     "text": [
      "Found flag: L3AK{jus7_p4tt3rn_m4tch1ng_4t_f1rs7_bu7_th3n_y0u_n33d_4_h3ur1st1c_t0_n4rr0w_1t_d0wn}\n"
     ]
    }
   ],
   "source": [
    "exp_md5 = \"a7bf5f833c3e4ceff2e006ff801ec16b\"\n",
    "\n",
    "import hashlib\n",
    "def md5_hash(s):\n",
    "    return hashlib.md5(s.encode()).hexdigest()\n",
    "\n",
    "# generating all possible flags from the matches\n",
    "possible_flags = [\"L3\"]\n",
    "for i, matches in enumerate(potential_matches[1:]):\n",
    "    new_flags = []\n",
    "    for first, second in matches:\n",
    "        combined = first + second\n",
    "        for flag in possible_flags:\n",
    "            new_flags.append(flag + combined)\n",
    "    possible_flags = new_flags\n",
    "\n",
    "# checking if any of the possible flags match the expected md5 hash\n",
    "for flag in possible_flags:\n",
    "    if md5_hash(flag) == exp_md5:\n",
    "        print(f\"Found flag: {flag}\")\n",
    "\n",
    "\n",
    "    \n"
   ]
  },
  {
   "cell_type": "code",
   "execution_count": null,
   "id": "80e20251",
   "metadata": {},
   "outputs": [],
   "source": []
  },
  {
   "cell_type": "code",
   "execution_count": null,
   "id": "da1eba81",
   "metadata": {},
   "outputs": [],
   "source": []
  }
 ],
 "metadata": {
  "kernelspec": {
   "display_name": "base",
   "language": "python",
   "name": "python3"
  },
  "language_info": {
   "codemirror_mode": {
    "name": "ipython",
    "version": 3
   },
   "file_extension": ".py",
   "mimetype": "text/x-python",
   "name": "python",
   "nbconvert_exporter": "python",
   "pygments_lexer": "ipython3",
   "version": "3.12.3"
  }
 },
 "nbformat": 4,
 "nbformat_minor": 5
}
